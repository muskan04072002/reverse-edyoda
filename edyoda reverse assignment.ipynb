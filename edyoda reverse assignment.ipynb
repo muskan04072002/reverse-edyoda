{
 "cells": [
  {
   "cell_type": "code",
   "execution_count": 2,
   "id": "657e777f",
   "metadata": {},
   "outputs": [
    {
     "name": "stdout",
     "output_type": "stream",
     "text": [
      "original string: edyoda\n",
      "reverse string: adoyde\n"
     ]
    }
   ],
   "source": [
    "def reverse(string):\n",
    "    revstr=\"\"\n",
    "    for i in string:\n",
    "        revstr=i+revstr\n",
    "    return revstr\n",
    "string=\"edyoda\"\n",
    "print(\"original string:\",string)\n",
    "print(\"reverse string:\",reverse(string))\n",
    "        "
   ]
  },
  {
   "cell_type": "code",
   "execution_count": null,
   "id": "70eaa515",
   "metadata": {},
   "outputs": [],
   "source": []
  }
 ],
 "metadata": {
  "kernelspec": {
   "display_name": "Python 3 (ipykernel)",
   "language": "python",
   "name": "python3"
  },
  "language_info": {
   "codemirror_mode": {
    "name": "ipython",
    "version": 3
   },
   "file_extension": ".py",
   "mimetype": "text/x-python",
   "name": "python",
   "nbconvert_exporter": "python",
   "pygments_lexer": "ipython3",
   "version": "3.9.12"
  }
 },
 "nbformat": 4,
 "nbformat_minor": 5
}
